{
  "nbformat": 4,
  "nbformat_minor": 0,
  "metadata": {
    "kernelspec": {
      "display_name": "Python 3",
      "language": "python",
      "name": "python3"
    },
    "language_info": {
      "codemirror_mode": {
        "name": "ipython",
        "version": 3
      },
      "file_extension": ".py",
      "mimetype": "text/x-python",
      "name": "python",
      "nbconvert_exporter": "python",
      "pygments_lexer": "ipython3",
      "version": "3.8.3"
    },
    "colab": {
      "name": "hw2.ipynb",
      "provenance": [],
      "collapsed_sections": []
    }
  },
  "cells": [
    {
      "cell_type": "markdown",
      "metadata": {
        "id": "-Ddvr3pHG4yc"
      },
      "source": [
        "# Assignment 2: Applications of modular arithmetics"
      ]
    },
    {
      "cell_type": "markdown",
      "metadata": {
        "id": "bkP87FaMG4yd"
      },
      "source": [
        "## Question 1: Cryptography\n",
        "\n",
        "In this question you will implement two simple cryptographic algorithms - Caesar's and Vigenère ciphers.\n",
        "\n",
        "1. Implement Caesar's cipher: https://en.wikipedia.org/wiki/Caesar_cipher, both the encoder and the decoder. Your encoder should use a right shift of 11. Your implementation should deal with both uppercase and lowercase characters. For example - `A` should be encoded as `L`, and `a` should be encoded as `l`. Non-alphabetic characters should stay as they are.\n",
        "2. Demonstrate the cipher by encoding and then decoding the [Zen of Python](#scrollTo=c7HI28zkPqXb&line=1&uniqifier=1) using Caesar cipher:\n",
        "  * Encode the Zen of Python and print the result.\n",
        "  * Decode the result of encoding and print the decoded string.\n",
        "  * Compare the original and recovered texts - they should be the same.\n",
        "3. For what _n_, where _n_ is the shift size, both the encoder and the decoder would output the same resulting string for every given input string? In other words, find an _n_ such that for each _x_ we would get: (_x_ + _n_) mod 26 = (_x_ - _n_) mod 26.\n",
        "4. Implement the Vigenère cipher: https://en.wikipedia.org/wiki/Vigenère_cipher, both the encoder and the decoder. Use the keyword `XYZZY`. As before, your implementation should preserve capitalization and keep non-alphabetic characters as they are. For example - the string `Hey, you!` should be encoded using the pairs `(H, X), (e, y), (y, z), (y, z), (o, y), (u, x)`, resulting with the cipher `Ecx, xmr!`.\n",
        "5. Demonstrate the Vigenère cipher by encoding and then decoding the Zen of Python, as before."
      ]
    },
    {
      "cell_type": "code",
      "source": [
        "import this  # This line actually prints out the Zen of Python. Curious? See: https://github.com/python/cpython/blob/main/Lib/this.py\n",
        "\n",
        "# For convenience, use the following constant.\n",
        "ZEN = '''The Zen of Python, by Tim Peters\n",
        "\n",
        "Beautiful is better than ugly.\n",
        "Explicit is better than implicit.\n",
        "Simple is better than complex.\n",
        "Complex is better than complicated.\n",
        "Flat is better than nested.\n",
        "Sparse is better than dense.\n",
        "Readability counts.\n",
        "Special cases aren't special enough to break the rules.\n",
        "Although practicality beats purity.\n",
        "Errors should never pass silently.\n",
        "Unless explicitly silenced.\n",
        "In the face of ambiguity, refuse the temptation to guess.\n",
        "There should be one-- and preferably only one --obvious way to do it.\n",
        "Although that way may not be obvious at first unless you're Dutch.\n",
        "Now is better than never.\n",
        "Although never is often better than *right* now.\n",
        "If the implementation is hard to explain, it's a bad idea.\n",
        "If the implementation is easy to explain, it may be a good idea.\n",
        "Namespaces are one honking great idea -- let's do more of those!\n",
        "'''"
      ],
      "metadata": {
        "id": "c7HI28zkPqXb"
      },
      "execution_count": 258,
      "outputs": []
    },
    {
      "cell_type": "code",
      "metadata": {
        "id": "Yd2ECbt3G4yd"
      },
      "source": [
        "# Solution 1\n",
        "def encode(string):\n",
        "    new_str=\"\"\n",
        "    for n in range(len(string)):\n",
        "        char= string[n]\n",
        "        if (char.isupper()):\n",
        "          new_str += chr((ord(char) + 11-65) % 26 + 65)\n",
        "        else:\n",
        "          new_str += chr((ord(char) + 11-97) % 26 + 97)\n",
        "    return new_str   \n",
        "\n",
        "def decode(string):\n",
        "    plain_text=\"\"\n",
        "    for n in range(len(string)):\n",
        "      char= string[n]\n",
        "      if (char.isupper()):\n",
        "        n_index = ord(char) -ord('A')\n",
        "        new_index = (n_index - 11) % 26\n",
        "        new_unicode = new_index + ord(\"A\")\n",
        "        new_character = chr(new_unicode)\n",
        "        plain_text = plain_text + new_character\n",
        "      else:\n",
        "        n_index = ord(char) - ord('a') \n",
        "        n_og_pos = (n_index - 11) % 26 + ord('a')\n",
        "        n_og = chr(n_og_pos)\n",
        "        plain_text += n_og\n",
        "    return plain_text\n"
      ],
      "execution_count": 259,
      "outputs": []
    },
    {
      "cell_type": "code",
      "source": [
        "# Solution 2\n",
        "def encodeZen(string=ZEN):\n",
        "    new_str=\"\"\n",
        "    for n in range(len(string)):\n",
        "        char= string[n]\n",
        "        if (char.isupper()):\n",
        "          new_str += chr((ord(char) + 11-65) % 26 + 65)\n",
        "        elif(char.islower()):\n",
        "           new_str += chr((ord(char) + 11-97) % 26 + 97)\n",
        "        else:\n",
        "           new_str += char\n",
        "    return(new_str) \n",
        "\n",
        "print(encodeZen())  \n",
        "\n",
        "def decodeZen(string=encodeZen(string=ZEN) ):\n",
        "    plain_text=\"\"\n",
        "    for n in range(len(string)):\n",
        "      char= string[n]\n",
        "      if (char.isupper()):\n",
        "        n_index = ord(char) -ord('A')\n",
        "        new_index = (n_index - 11) % 26\n",
        "        new_unicode = new_index + ord(\"A\")\n",
        "        new_character = chr(new_unicode)\n",
        "        plain_text = plain_text + new_character\n",
        "      elif(char.islower()):\n",
        "        n_index = ord(char) - ord('a') \n",
        "        n_og_pos = (n_index - 11) % 26 + ord('a')\n",
        "        n_og = chr(n_og_pos)\n",
        "        plain_text += n_og\n",
        "      else:\n",
        "        plain_text += char\n",
        "    return(plain_text) \n",
        "\n",
        "print(decodeZen())\n",
        "\n",
        "def check():\n",
        "  if decodeZen() == ZEN:\n",
        "    return True\n",
        "  else:\n",
        "    return False\n",
        "\n",
        "print(check())"
      ],
      "metadata": {
        "id": "HS01pNyxD_1I",
        "colab": {
          "base_uri": "https://localhost:8080/"
        },
        "outputId": "06775a35-6255-4630-a930-f221e4e46bc1"
      },
      "execution_count": 260,
      "outputs": [
        {
          "output_type": "stream",
          "name": "stdout",
          "text": [
            "Esp Kpy zq Ajeszy, mj Etx Apepcd\n",
            "\n",
            "Mplfetqfw td mpeepc esly frwj.\n",
            "Piawtnte td mpeepc esly txawtnte.\n",
            "Dtxawp td mpeepc esly nzxawpi.\n",
            "Nzxawpi td mpeepc esly nzxawtnlepo.\n",
            "Qwle td mpeepc esly ypdepo.\n",
            "Dalcdp td mpeepc esly opydp.\n",
            "Cplolmtwtej nzfyed.\n",
            "Dapntlw nldpd lcpy'e dapntlw pyzfrs ez mcplv esp cfwpd.\n",
            "Lweszfrs aclnetnlwtej mpled afctej.\n",
            "Pcczcd dszfwo ypgpc aldd dtwpyewj.\n",
            "Fywpdd piawtntewj dtwpynpo.\n",
            "Ty esp qlnp zq lxmtrftej, cpqfdp esp epxaeletzy ez rfpdd.\n",
            "Espcp dszfwo mp zyp-- lyo acpqpclmwj zywj zyp --zmgtzfd hlj ez oz te.\n",
            "Lweszfrs esle hlj xlj yze mp zmgtzfd le qtcde fywpdd jzf'cp Ofens.\n",
            "Yzh td mpeepc esly ypgpc.\n",
            "Lweszfrs ypgpc td zqepy mpeepc esly *ctrse* yzh.\n",
            "Tq esp txawpxpyeletzy td slco ez piawlty, te'd l mlo topl.\n",
            "Tq esp txawpxpyeletzy td pldj ez piawlty, te xlj mp l rzzo topl.\n",
            "Ylxpdalnpd lcp zyp szyvtyr rcple topl -- wpe'd oz xzcp zq eszdp!\n",
            "\n",
            "The Zen of Python, by Tim Peters\n",
            "\n",
            "Beautiful is better than ugly.\n",
            "Explicit is better than implicit.\n",
            "Simple is better than complex.\n",
            "Complex is better than complicated.\n",
            "Flat is better than nested.\n",
            "Sparse is better than dense.\n",
            "Readability counts.\n",
            "Special cases aren't special enough to break the rules.\n",
            "Although practicality beats purity.\n",
            "Errors should never pass silently.\n",
            "Unless explicitly silenced.\n",
            "In the face of ambiguity, refuse the temptation to guess.\n",
            "There should be one-- and preferably only one --obvious way to do it.\n",
            "Although that way may not be obvious at first unless you're Dutch.\n",
            "Now is better than never.\n",
            "Although never is often better than *right* now.\n",
            "If the implementation is hard to explain, it's a bad idea.\n",
            "If the implementation is easy to explain, it may be a good idea.\n",
            "Namespaces are one honking great idea -- let's do more of those!\n",
            "\n",
            "True\n"
          ]
        }
      ]
    },
    {
      "cell_type": "code",
      "source": [
        "# Solution 3\n",
        "def encode1(string,r=11):\n",
        "    new_str=\"\"\n",
        "    for n in range(len(string)):\n",
        "        char= string[n]\n",
        "        if (char.isupper()):\n",
        "          new_str += chr((ord(char) + r-65) % 26 + 65)\n",
        "        else:\n",
        "          new_str += chr((ord(char) + r-97) % 26 + 97)\n",
        "    return new_str \n",
        "\n",
        "def decode1(string,r=11):\n",
        "    plain_text=\"\"\n",
        "    for n in range(len(string)):\n",
        "      char= string[n]\n",
        "      if (char.isupper()):\n",
        "        n_index = ord(char) -ord('A')\n",
        "        new_index = (n_index - r) % 26\n",
        "        new_unicode = new_index + ord(\"A\")\n",
        "        new_character = chr(new_unicode)\n",
        "        plain_text = plain_text + new_character\n",
        "      else:\n",
        "        n_index = ord(char) - ord('a') \n",
        "        n_og_pos = (n_index - r) % 26 + ord('a')\n",
        "        n_og = chr(n_og_pos)\n",
        "        plain_text += n_og\n",
        "    return plain_text\n",
        "\n",
        "for n in range(1,26):\n",
        "  if encode1(\"abcdefghijklmnopqrstuvwxyz\",n) == decode1(\"abcdefghijklmnopqrstuvwxyz\",n) and encode1(\"ABCDEFGHIJKLMNOPQRSTUVWXYZ\",n)==decode1(\"ABCDEFGHIJKLMNOPQRSTUVWXYZ\",n) :\n",
        "    print (n)\n",
        "\n",
        "#For 13 shift size, both the encoder and the decoder would output the same resulting string for every given input string"
      ],
      "metadata": {
        "id": "Rq8K7PVxEAWw",
        "colab": {
          "base_uri": "https://localhost:8080/"
        },
        "outputId": "8c1c140a-a408-4971-b697-1e4f79418938"
      },
      "execution_count": 261,
      "outputs": [
        {
          "output_type": "stream",
          "name": "stdout",
          "text": [
            "13\n"
          ]
        }
      ]
    },
    {
      "cell_type": "code",
      "source": [
        "# Solution 4\n",
        "def Vigenère_cipher_encode(string, keyword=\"XYZZY\"):\n",
        "  undo=0\n",
        "  long_keyword=keyword\n",
        "  lenght= len(string)\n",
        "  keyword_len=len(keyword)\n",
        "  mult= (lenght//keyword_len)+1\n",
        "  for m in range(mult):\n",
        "    long_keyword+= keyword\n",
        "  new_str=\"\"\n",
        "  for n in range(len(string)):\n",
        "    char= string[n]\n",
        "    if not (char.islower() or char.isupper()):  \n",
        "      new_str += char\n",
        "      undo+= 1\n",
        "    else:\n",
        "      char= string[n]\n",
        "      theKey=long_keyword[n-undo]\n",
        "      num=ord(theKey)\n",
        "      if (char.isupper()):\n",
        "        num=num-65\n",
        "        new_str += chr((ord(char) + num-65) % 26 +65)\n",
        "      elif(char.islower()):\n",
        "        num=num-65\n",
        "        new_str += chr((ord(char) + num-97) % 26 + 97)\n",
        "  return(new_str) \n",
        "\n",
        "\n",
        "\n",
        "def Vigenère_cipher_decode(string, keyword=\"XYZZY\"):\n",
        "  new_str=\"\"\n",
        "  long_keyword=keyword\n",
        "  undo=0\n",
        "  lenght= len(string)\n",
        "  keyword_len=len(keyword)\n",
        "  mult= (lenght//keyword_len)+1\n",
        "  for m in range(mult):\n",
        "    long_keyword+= keyword\n",
        "  new_str=\"\"\n",
        "  for n in range(len(string)):\n",
        "    char= string[n]\n",
        "    if not (char.islower() or char.isupper()):  \n",
        "      new_str += char\n",
        "      undo+= 1\n",
        "    elif (char.isupper()):\n",
        "      char= string[n]\n",
        "      theKey=long_keyword[n-undo]\n",
        "      num=(ord(char)-ord(theKey) + 26) % 26\n",
        "      num += ord('A')\n",
        "      new_str+=(chr(num))\n",
        "    else :\n",
        "      char= string[n]\n",
        "      theKey=long_keyword[n-undo]\n",
        "      num=((ord(char)-ord(theKey)+98) % 26)\n",
        "      num += ord('a')\n",
        "      new_str+=(chr(num))\n",
        "  return(new_str)\n",
        "\n",
        "\n",
        "\n"
      ],
      "metadata": {
        "id": "r3LynAYlEArC"
      },
      "execution_count": 262,
      "outputs": []
    },
    {
      "cell_type": "code",
      "source": [
        "# Solution 5\n",
        "codedZen=Vigenère_cipher_encode(ZEN, keyword=\"XYZZY\")\n",
        "print(codedZen)\n",
        "print(Vigenère_cipher_decode(codedZen, keyword=\"XYZZY\"))\n",
        "\n",
        "def check():\n",
        "  if ZEN == Vigenère_cipher_decode(codedZen, keyword=\"XYZZY\"):\n",
        "    return True\n",
        "  else:\n",
        "    return False\n",
        "\n",
        "print(check())"
      ],
      "metadata": {
        "id": "xEsyt7IqEA62",
        "colab": {
          "base_uri": "https://localhost:8080/"
        },
        "outputId": "65bdbef8-5d06-496e-ae94-0654e3652177"
      },
      "execution_count": 263,
      "outputs": [
        {
          "output_type": "stream",
          "name": "stdout",
          "text": [
            "Qfd Yck me Owqfnm, zv Rhl Nbrdqq\n",
            "\n",
            "Ycztrfdtk gp zdsrbp sgyk sfkw.\n",
            "Bvokgzgs hq ycssco rgzl fkokgzgs.\n",
            "Rgjnkd gp zdsrbp sgyk anlnicw.\n",
            "Bmjnkdv fq adrqcq sfxl bnkmjhbyqcc.\n",
            "Ejxr hr zbrsdp qfzm lbqsdb.\n",
            "Pnzqqb gr acqrdq reym cckqd.\n",
            "Qcxbzagigsx alsmsq.\n",
            "Pndbgxj bzqbq zqck'r roczgzk ckmtff qm aqcxi sgc oskdq.\n",
            "Xjsgmreg opxashaxjhsw yczsq msqhrv.\n",
            "Cqqmoq rgmrjc mcscq oypq rhjblskw.\n",
            "Rlkdqp cwojfahsjv qhkckadc.\n",
            "Gk rgd dxad nd xkahergsx, pbdtrc qfd scjnszrfmm sm dsdrq.\n",
            "Qfdqc pfntja zd nlb-- ymc nocedpxzkx mkjx nlb --mauglsr vyv rn cm fr.\n",
            "Zkremtff qfzs uxw lzw kms ac lzuhmrq zs dfprs skjdrq vmt'qc Assbf.\n",
            "Kmv hq ycssco rgzl kcudp.\n",
            "Xjsgmreg mcscq hq ldsdl ycssco rgzl *ogfgr* kmv.\n",
            "Hd qfd hkmjdlckrzsgll hr fxpc sm bvokyfl, hs'q x zzc gacz.\n",
            "Hd qfd hkmjdlckrzsgll hr cxqx sm bvokyfl, hs kxw ad y dmnc gacz.\n",
            "Myjcroyzcr zpb mmd flljhld eqdyq gcdy -- ics'r bl knqc ld sgmpc!\n",
            "\n",
            "The Zen of Python, by Tim Peters\n",
            "\n",
            "Beautiful is better than ugly.\n",
            "Explicit is better than implicit.\n",
            "Simple is better than complex.\n",
            "Complex is better than complicated.\n",
            "Flat is better than nested.\n",
            "Sparse is better than dense.\n",
            "Readability counts.\n",
            "Special cases aren't special enough to break the rules.\n",
            "Although practicality beats purity.\n",
            "Errors should never pass silently.\n",
            "Unless explicitly silenced.\n",
            "In the face of ambiguity, refuse the temptation to guess.\n",
            "There should be one-- and preferably only one --obvious way to do it.\n",
            "Although that way may not be obvious at first unless you're Dutch.\n",
            "Now is better than never.\n",
            "Although never is often better than *right* now.\n",
            "If the implementation is hard to explain, it's a bad idea.\n",
            "If the implementation is easy to explain, it may be a good idea.\n",
            "Namespaces are one honking great idea -- let's do more of those!\n",
            "\n",
            "True\n"
          ]
        }
      ]
    },
    {
      "cell_type": "markdown",
      "metadata": {
        "id": "6VWZ6SVnG4yd"
      },
      "source": [
        "## Question 2: Hash tables and hash functions\n",
        "\n",
        "The code cell below contains a list of Israeli localities and a list of lists of ZIP codes, each containing one or more ZIP codes that belong to the locality placed at the same index in the list of localities (e.g., the list of ZIP codes at `zipcodes[4]` contains ZIP codes that belong to the locality at `localities[4]`).\n",
        "\n",
        "In the first two tasks you will create two hash tables that map each ZIP code to its corresponding locality. For example,\n",
        "```python\n",
        "locality = zipcodes_to_localities['77771']  # Using Python's dictionary\n",
        "print(locality)\n",
        "\n",
        "locality = tget(t, '24990')  # Using our implementation of dictionary\n",
        "print(locality)\n",
        "```\n",
        "should print\n",
        "```\n",
        "Ashdod\n",
        "Beit Jann\n",
        "```\n",
        "The rest of the tasks deal with hash functions.\n",
        "\n",
        "1. Create the hash table using Python's dictionary. Print it using the function `pprint`.\n",
        "2. Create the hash table using our implementation (see [lecture notes](https://colab.research.google.com/drive/1Byc11ZKz-Bd4BxWOh9YnkEJGPnUeAK1C#scrollTo=en9mqoSXxK8q)) of dictionary using the built-in hash function. Print it using the function `pprint`.\n",
        "3. Implement a hash function for ZIP codes, that maps each ZIP code (as a string) to the number: (_m_ + 1) * (_k_ + 1), where _m_ is the maximal digit of the ZIP code, and _k_ is the index of its first occurrence. For example, `'10727'` (_m_ = 7, _k_ = 2) and `'21053'` (_m_ = 5, _k_ = 3) should both be mapped to the number 24.\n",
        "4. May the hash function you implemented in task 3 be used as a reliable checksum function? Explain your answer with an example.\n",
        "5. MD5 is a widely used hash function, primarily used as a checksum. The function `md5(s)` in the code cell below takes a string and returns its MD5 digest represented as a string of 32 [hexadecimal](https://en.wikipedia.org/wiki/Hexadecimal) digits. You are required to write a program that finds and prints the string of 3 lowercase English alphabet characters whose MD5 digest is `0b08bd98d279b88859b628cd8c061ae0`."
      ]
    },
    {
      "cell_type": "code",
      "metadata": {
        "id": "2Op-c-GxG4yd"
      },
      "source": [
        "# For tasks 1 and 2\n",
        "\n",
        "from pprint import pprint\n",
        "\n",
        "localities = \\\n",
        "[\n",
        " 'Qiryat Shemona',\n",
        " 'Beit Jann',\n",
        " 'Harish',\n",
        " 'Tira',\n",
        " 'Bene Beraq',\n",
        " 'Ashdod',\n",
        " 'Sederot',\n",
        " 'Beersheba',\n",
        " 'Kseife',\n",
        " 'Tzofar'\n",
        "]\n",
        "\n",
        "zipcodes = \\\n",
        "[\n",
        " ['11032', '11561'],\n",
        " ['24990'],\n",
        " ['37611'],\n",
        " ['44915'],\n",
        " ['51461', '51529', '51562'],\n",
        " ['77756', '77771'],\n",
        " ['87112'],\n",
        " ['84138', '84277', '84540', '84885'],\n",
        " ['84923'],\n",
        " ['86830']\n",
        "]\n",
        "\n",
        "\n",
        "# For task 5\n",
        "\n",
        "import hashlib\n",
        "\n",
        "def md5(s):\n",
        "  return hashlib.md5(s.encode('utf-8')).hexdigest()"
      ],
      "execution_count": 264,
      "outputs": []
    },
    {
      "cell_type": "code",
      "source": [
        "# Solution 1\n",
        "new_dict = {}\n",
        "for i in range(len(zipcodes)):\n",
        "  for j in range(len(zipcodes[i])):\n",
        "    new_dict[zipcodes[i][j]] = localities[i]\n",
        "pprint(new_dict)\n",
        "\n",
        "\n",
        "  "
      ],
      "metadata": {
        "id": "Cr8w8pvF1q_W",
        "colab": {
          "base_uri": "https://localhost:8080/"
        },
        "outputId": "17082799-a9d0-4832-eb37-36acf3cf834c"
      },
      "execution_count": 265,
      "outputs": [
        {
          "output_type": "stream",
          "name": "stdout",
          "text": [
            "{'11032': 'Qiryat Shemona',\n",
            " '11561': 'Qiryat Shemona',\n",
            " '24990': 'Beit Jann',\n",
            " '37611': 'Harish',\n",
            " '44915': 'Tira',\n",
            " '51461': 'Bene Beraq',\n",
            " '51529': 'Bene Beraq',\n",
            " '51562': 'Bene Beraq',\n",
            " '77756': 'Ashdod',\n",
            " '77771': 'Ashdod',\n",
            " '84138': 'Beersheba',\n",
            " '84277': 'Beersheba',\n",
            " '84540': 'Beersheba',\n",
            " '84885': 'Beersheba',\n",
            " '84923': 'Kseife',\n",
            " '86830': 'Tzofar',\n",
            " '87112': 'Sederot'}\n"
          ]
        }
      ]
    },
    {
      "cell_type": "code",
      "source": [
        "# Solution 2\n",
        "import matplotlib.pyplot as plt\n",
        "from pprint import pprint\n",
        "%matplotlib inline\n",
        "\n",
        "def make(n):\n",
        "    return [list() for _ in range(n)]\n",
        "\n",
        "def tset(table, key, value, h=hash):\n",
        "    i = h(key) % len(table)\n",
        "    entry = table[i]\n",
        "    for i, (k, v) in enumerate(entry):\n",
        "        if key==k:\n",
        "            entry[i] = (key, value)\n",
        "            return\n",
        "    entry.append((key, value))\n",
        "        \n",
        "def tget(table, key, h=hash):\n",
        "    i = h(key) % len(table)\n",
        "    entry = table[i]\n",
        "    for i, (k, v) in enumerate(entry):\n",
        "        if key==k:\n",
        "            return v\n",
        "    return None\n",
        "\n",
        "table=(make(37))\n",
        "for i in range(len(zipcodes)):\n",
        "  for j in range(len(zipcodes[i])):\n",
        "    key=zipcodes[i][j]\n",
        "    value=localities[i]\n",
        "    tset(table, key, value, h=hash)\n",
        "pprint(table)\n",
        "\n"
      ],
      "metadata": {
        "id": "4V6pSUsxEXwl",
        "colab": {
          "base_uri": "https://localhost:8080/"
        },
        "outputId": "6bf8cf2e-f5f3-46dd-e17a-b9cec05f001f"
      },
      "execution_count": 266,
      "outputs": [
        {
          "output_type": "stream",
          "name": "stdout",
          "text": [
            "[[],\n",
            " [],\n",
            " [],\n",
            " [('37611', 'Harish'), ('51529', 'Bene Beraq')],\n",
            " [('24990', 'Beit Jann')],\n",
            " [('84138', 'Beersheba')],\n",
            " [],\n",
            " [],\n",
            " [('11032', 'Qiryat Shemona'), ('86830', 'Tzofar')],\n",
            " [],\n",
            " [('77771', 'Ashdod')],\n",
            " [],\n",
            " [],\n",
            " [],\n",
            " [('87112', 'Sederot')],\n",
            " [],\n",
            " [('84885', 'Beersheba')],\n",
            " [],\n",
            " [],\n",
            " [],\n",
            " [('77756', 'Ashdod')],\n",
            " [('51461', 'Bene Beraq')],\n",
            " [('84540', 'Beersheba')],\n",
            " [],\n",
            " [('44915', 'Tira')],\n",
            " [],\n",
            " [],\n",
            " [],\n",
            " [('84277', 'Beersheba')],\n",
            " [('84923', 'Kseife')],\n",
            " [],\n",
            " [],\n",
            " [],\n",
            " [('11561', 'Qiryat Shemona')],\n",
            " [],\n",
            " [('51562', 'Bene Beraq')],\n",
            " []]\n"
          ]
        }
      ]
    },
    {
      "cell_type": "code",
      "source": [
        "# Solution 3\n",
        "def hasht(keys=zipcodes):\n",
        "  max_index=0\n",
        "  table=(make(37))\n",
        "  for i in range(len(keys)):\n",
        "    for j in range(len(keys[i])):\n",
        "      key=keys[i][j]\n",
        "      for t in range(len(key)):\n",
        "        if key[max_index]<key[t]:\n",
        "          max_index=t\n",
        "        else:\n",
        "          max_index=max_index\n",
        "      max_num= key[max_index]\n",
        "      value= ((int(max_num) +1)*(max_index+1))\n",
        "      tset(table, key, value, h=hash)\n",
        "  return(table)\n",
        "\n",
        "pprint(hasht())\n",
        "\n"
      ],
      "metadata": {
        "id": "xV3vrG1pEYIo",
        "colab": {
          "base_uri": "https://localhost:8080/"
        },
        "outputId": "b9f89ce2-cbee-4fa8-9b2d-9cdc71d247f8"
      },
      "execution_count": 267,
      "outputs": [
        {
          "output_type": "stream",
          "name": "stdout",
          "text": [
            "[[],\n",
            " [],\n",
            " [],\n",
            " [('37611', 16), ('51529', 50)],\n",
            " [('24990', 40)],\n",
            " [('84138', 9)],\n",
            " [],\n",
            " [],\n",
            " [('11032', 16), ('86830', 27)],\n",
            " [],\n",
            " [('77771', 8)],\n",
            " [],\n",
            " [],\n",
            " [],\n",
            " [('87112', 9)],\n",
            " [],\n",
            " [('84885', 9)],\n",
            " [],\n",
            " [],\n",
            " [],\n",
            " [('77756', 8)],\n",
            " [('51461', 28)],\n",
            " [('84540', 9)],\n",
            " [],\n",
            " [('44915', 30)],\n",
            " [],\n",
            " [],\n",
            " [],\n",
            " [('84277', 9)],\n",
            " [('84923', 30)],\n",
            " [],\n",
            " [],\n",
            " [],\n",
            " [('11561', 28)],\n",
            " [],\n",
            " [('51562', 28)],\n",
            " []]\n"
          ]
        }
      ]
    },
    {
      "cell_type": "code",
      "source": [
        "# Solution 4\n",
        "#the hash function i implemented in task 3 can not be used as a reliable checksum function because we get a lot of identical results for different zipcodes\n",
        "#for example:\n",
        "pprint(hasht())\n",
        "# we can see that number \"9\" appears 5 times of 5 different zipcodes\n"
      ],
      "metadata": {
        "id": "8LPoAlTdEYf7",
        "colab": {
          "base_uri": "https://localhost:8080/"
        },
        "outputId": "e31dfa32-5a50-46c0-bf83-b0481d8ff90e"
      },
      "execution_count": 268,
      "outputs": [
        {
          "output_type": "stream",
          "name": "stdout",
          "text": [
            "[[],\n",
            " [],\n",
            " [],\n",
            " [('37611', 16), ('51529', 50)],\n",
            " [('24990', 40)],\n",
            " [('84138', 9)],\n",
            " [],\n",
            " [],\n",
            " [('11032', 16), ('86830', 27)],\n",
            " [],\n",
            " [('77771', 8)],\n",
            " [],\n",
            " [],\n",
            " [],\n",
            " [('87112', 9)],\n",
            " [],\n",
            " [('84885', 9)],\n",
            " [],\n",
            " [],\n",
            " [],\n",
            " [('77756', 8)],\n",
            " [('51461', 28)],\n",
            " [('84540', 9)],\n",
            " [],\n",
            " [('44915', 30)],\n",
            " [],\n",
            " [],\n",
            " [],\n",
            " [('84277', 9)],\n",
            " [('84923', 30)],\n",
            " [],\n",
            " [],\n",
            " [],\n",
            " [('11561', 28)],\n",
            " [],\n",
            " [('51562', 28)],\n",
            " []]\n"
          ]
        }
      ]
    },
    {
      "cell_type": "code",
      "source": [
        "# Solution 5\n",
        "import itertools\n",
        "alphabets = ['a', 'b', 'c', 'd', 'e', 'f', 'g', 'h', 'i', 'j', 'k', 'l', 'm', 'n', 'o', 'p', 'q', 'r', 's', 't', 'u', 'v', 'w', 'x', 'y', 'z']\n",
        "keywords = [''.join(i) for i in itertools.product(alphabets, repeat = 3)]\n",
        "for g in range(len(keywords)):\n",
        "  d=keywords[g]\n",
        "  if md5(d)==\"0b08bd98d279b88859b628cd8c061ae0\":\n",
        "    print(d)\n"
      ],
      "metadata": {
        "id": "lJnONvGNEY1P",
        "colab": {
          "base_uri": "https://localhost:8080/"
        },
        "outputId": "fbc94fd8-1e43-49d5-c3ac-602b471a4cc4"
      },
      "execution_count": 269,
      "outputs": [
        {
          "output_type": "stream",
          "name": "stdout",
          "text": [
            "win\n"
          ]
        }
      ]
    }
  ]
}